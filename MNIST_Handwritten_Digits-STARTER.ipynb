{
 "cells": [
  {
   "cell_type": "markdown",
   "metadata": {},
   "source": [
    "# Introduction\n",
    "\n",
    "In this project, you will build a neural network of your own design to evaluate the MNIST dataset.\n",
    "\n",
    "Some of the benchmark results on MNIST include can be found [on Yann LeCun's page](http://yann.lecun.com/exdb/mnist/) and include:\n",
    "\n",
    "88% [Lecun et al., 1998](http://yann.lecun.com/exdb/publis/pdf/lecun-98.pdf)\n",
    "95.3% [Lecun et al., 1998](http://yann.lecun.com/exdb/publis/pdf/lecun-98.pdf)\n",
    "99.65% [Ciresan et al., 2011](http://people.idsia.ch/~juergen/ijcai2011.pdf)\n",
    "\n",
    "MNIST is a great dataset for sanity checking your models, since the accuracy levels achieved by large convolutional neural networks and small linear models are both quite high. This makes it important to be familiar with the data.\n",
    "\n",
    "## Imports"
   ]
  },
  {
   "cell_type": "code",
   "execution_count": 1,
   "metadata": {},
   "outputs": [],
   "source": [
    "## This cell contains the essential imports you will need – DO NOT CHANGE THE CONTENTS! ##\n",
    "import torch\n",
    "import torch.nn as nn\n",
    "import torch.nn.functional as F\n",
    "import torch.optim as optim\n",
    "import torchvision\n",
    "import torchvision.transforms as transforms\n",
    "import matplotlib.pyplot as plt\n",
    "import numpy as np"
   ]
  },
  {
   "cell_type": "markdown",
   "metadata": {},
   "source": [
    "## Load the Dataset\n",
    "\n",
    "Specify your transforms as a list if you intend to .\n",
    "The transforms module is already loaded as `transforms`.\n",
    "\n",
    "MNIST is fortunately included in the torchvision module.\n",
    "Then, you can create your dataset using the `MNIST` object from `torchvision.datasets` ([the documentation is available here](https://pytorch.org/vision/stable/datasets.html#mnist)).\n",
    "Make sure to specify `download=True`! \n",
    "\n",
    "Once your dataset is created, you'll also need to define a `DataLoader` from the `torch.utils.data` module for both the train and the test set."
   ]
  },
  {
   "cell_type": "code",
   "execution_count": 2,
   "metadata": {},
   "outputs": [
    {
     "name": "stdout",
     "output_type": "stream",
     "text": [
      "Defaulting to user installation because normal site-packages is not writeable\n",
      "Collecting jupyter\n",
      "  Downloading jupyter-1.0.0-py2.py3-none-any.whl (2.7 kB)\n",
      "Requirement already satisfied, skipping upgrade: ipykernel in /opt/conda/lib/python3.7/site-packages (from jupyter) (5.1.4)\n",
      "Requirement already satisfied, skipping upgrade: nbconvert in /opt/conda/lib/python3.7/site-packages (from jupyter) (5.6.1)\n",
      "Requirement already satisfied, skipping upgrade: notebook in /opt/conda/lib/python3.7/site-packages (from jupyter) (5.7.4)\n",
      "Collecting jupyter-console\n",
      "  Downloading jupyter_console-6.6.3-py3-none-any.whl (24 kB)\n",
      "Collecting qtconsole\n",
      "  Downloading qtconsole-5.4.3-py3-none-any.whl (121 kB)\n",
      "\u001b[K     |████████████████████████████████| 121 kB 7.8 MB/s eta 0:00:01\n",
      "\u001b[?25hCollecting ipywidgets\n",
      "  Downloading ipywidgets-8.0.6-py3-none-any.whl (138 kB)\n",
      "\u001b[K     |████████████████████████████████| 138 kB 40.0 MB/s eta 0:00:01\n",
      "\u001b[?25hRequirement already satisfied, skipping upgrade: traitlets>=4.1.0 in /opt/conda/lib/python3.7/site-packages (from ipykernel->jupyter) (4.3.3)\n",
      "Requirement already satisfied, skipping upgrade: jupyter-client in /opt/conda/lib/python3.7/site-packages (from ipykernel->jupyter) (6.0.0)\n",
      "Requirement already satisfied, skipping upgrade: tornado>=4.2 in /opt/conda/lib/python3.7/site-packages (from ipykernel->jupyter) (5.1.1)\n",
      "Requirement already satisfied, skipping upgrade: ipython>=5.0.0 in /opt/conda/lib/python3.7/site-packages (from ipykernel->jupyter) (7.13.0)\n",
      "Requirement already satisfied, skipping upgrade: testpath in /opt/conda/lib/python3.7/site-packages (from nbconvert->jupyter) (0.4.4)\n",
      "Requirement already satisfied, skipping upgrade: pandocfilters>=1.4.1 in /opt/conda/lib/python3.7/site-packages (from nbconvert->jupyter) (1.4.2)\n",
      "Requirement already satisfied, skipping upgrade: jinja2>=2.4 in /opt/conda/lib/python3.7/site-packages (from nbconvert->jupyter) (2.11.1)\n",
      "Requirement already satisfied, skipping upgrade: pygments in /opt/conda/lib/python3.7/site-packages (from nbconvert->jupyter) (2.5.2)\n",
      "Requirement already satisfied, skipping upgrade: entrypoints>=0.2.2 in /opt/conda/lib/python3.7/site-packages (from nbconvert->jupyter) (0.3)\n",
      "Requirement already satisfied, skipping upgrade: jupyter-core in /opt/conda/lib/python3.7/site-packages (from nbconvert->jupyter) (4.6.3)\n",
      "Requirement already satisfied, skipping upgrade: bleach in /opt/conda/lib/python3.7/site-packages (from nbconvert->jupyter) (3.1.1)\n",
      "Requirement already satisfied, skipping upgrade: defusedxml in /opt/conda/lib/python3.7/site-packages (from nbconvert->jupyter) (0.6.0)\n",
      "Requirement already satisfied, skipping upgrade: nbformat>=4.4 in /opt/conda/lib/python3.7/site-packages (from nbconvert->jupyter) (5.0.4)\n",
      "Requirement already satisfied, skipping upgrade: mistune<2,>=0.8.1 in /opt/conda/lib/python3.7/site-packages (from nbconvert->jupyter) (0.8.4)\n",
      "Requirement already satisfied, skipping upgrade: pyzmq>=17 in /opt/conda/lib/python3.7/site-packages (from notebook->jupyter) (19.0.0)\n",
      "Requirement already satisfied, skipping upgrade: terminado>=0.8.1 in /opt/conda/lib/python3.7/site-packages (from notebook->jupyter) (0.8.3)\n",
      "Requirement already satisfied, skipping upgrade: prometheus-client in /opt/conda/lib/python3.7/site-packages (from notebook->jupyter) (0.7.1)\n",
      "Requirement already satisfied, skipping upgrade: Send2Trash in /opt/conda/lib/python3.7/site-packages (from notebook->jupyter) (1.5.0)\n",
      "Requirement already satisfied, skipping upgrade: ipython-genutils in /opt/conda/lib/python3.7/site-packages (from notebook->jupyter) (0.2.0)\n",
      "Collecting prompt-toolkit>=3.0.30\n",
      "  Downloading prompt_toolkit-3.0.38-py3-none-any.whl (385 kB)\n",
      "\u001b[K     |████████████████████████████████| 385 kB 38.6 MB/s eta 0:00:01\n",
      "\u001b[?25hCollecting qtpy>=2.0.1\n",
      "  Downloading QtPy-2.3.1-py3-none-any.whl (84 kB)\n",
      "\u001b[K     |████████████████████████████████| 84 kB 5.6 MB/s  eta 0:00:01\n",
      "\u001b[?25hRequirement already satisfied, skipping upgrade: packaging in /opt/conda/lib/python3.7/site-packages (from qtconsole->jupyter) (20.1)\n",
      "Collecting widgetsnbextension~=4.0.7\n",
      "  Downloading widgetsnbextension-4.0.7-py3-none-any.whl (2.1 MB)\n",
      "\u001b[K     |████████████████████████████████| 2.1 MB 34.6 MB/s eta 0:00:01\n",
      "\u001b[?25hCollecting jupyterlab-widgets~=3.0.7\n",
      "  Downloading jupyterlab_widgets-3.0.7-py3-none-any.whl (198 kB)\n",
      "\u001b[K     |████████████████████████████████| 198 kB 45.3 MB/s eta 0:00:01\n",
      "\u001b[?25hRequirement already satisfied, skipping upgrade: decorator in /opt/conda/lib/python3.7/site-packages (from traitlets>=4.1.0->ipykernel->jupyter) (4.4.2)\n",
      "Requirement already satisfied, skipping upgrade: six in /opt/conda/lib/python3.7/site-packages (from traitlets>=4.1.0->ipykernel->jupyter) (1.16.0)\n",
      "Requirement already satisfied, skipping upgrade: python-dateutil>=2.1 in /opt/conda/lib/python3.7/site-packages (from jupyter-client->ipykernel->jupyter) (2.8.1)\n",
      "Requirement already satisfied, skipping upgrade: setuptools>=18.5 in /opt/conda/lib/python3.7/site-packages (from ipython>=5.0.0->ipykernel->jupyter) (45.2.0.post20200209)\n",
      "Requirement already satisfied, skipping upgrade: backcall in /opt/conda/lib/python3.7/site-packages (from ipython>=5.0.0->ipykernel->jupyter) (0.1.0)\n",
      "Requirement already satisfied, skipping upgrade: pexpect; sys_platform != \"win32\" in /opt/conda/lib/python3.7/site-packages (from ipython>=5.0.0->ipykernel->jupyter) (4.8.0)\n",
      "Requirement already satisfied, skipping upgrade: pickleshare in /opt/conda/lib/python3.7/site-packages (from ipython>=5.0.0->ipykernel->jupyter) (0.7.5)\n",
      "Requirement already satisfied, skipping upgrade: jedi>=0.10 in /opt/conda/lib/python3.7/site-packages (from ipython>=5.0.0->ipykernel->jupyter) (0.16.0)\n",
      "Requirement already satisfied, skipping upgrade: MarkupSafe>=0.23 in /opt/conda/lib/python3.7/site-packages (from jinja2>=2.4->nbconvert->jupyter) (1.1.1)\n",
      "Requirement already satisfied, skipping upgrade: webencodings in /opt/conda/lib/python3.7/site-packages (from bleach->nbconvert->jupyter) (0.5.1)\n",
      "Requirement already satisfied, skipping upgrade: jsonschema!=2.5.0,>=2.4 in /opt/conda/lib/python3.7/site-packages (from nbformat>=4.4->nbconvert->jupyter) (3.2.0)\n",
      "Requirement already satisfied, skipping upgrade: wcwidth in /opt/conda/lib/python3.7/site-packages (from prompt-toolkit>=3.0.30->jupyter-console->jupyter) (0.1.8)\n",
      "Requirement already satisfied, skipping upgrade: pyparsing>=2.0.2 in /opt/conda/lib/python3.7/site-packages (from packaging->qtconsole->jupyter) (2.4.6)\n",
      "Requirement already satisfied, skipping upgrade: ptyprocess>=0.5 in /opt/conda/lib/python3.7/site-packages (from pexpect; sys_platform != \"win32\"->ipython>=5.0.0->ipykernel->jupyter) (0.6.0)\n",
      "Requirement already satisfied, skipping upgrade: parso>=0.5.2 in /opt/conda/lib/python3.7/site-packages (from jedi>=0.10->ipython>=5.0.0->ipykernel->jupyter) (0.6.1)\n",
      "Requirement already satisfied, skipping upgrade: attrs>=17.4.0 in /opt/conda/lib/python3.7/site-packages (from jsonschema!=2.5.0,>=2.4->nbformat>=4.4->nbconvert->jupyter) (19.3.0)\n",
      "Requirement already satisfied, skipping upgrade: pyrsistent>=0.14.0 in /opt/conda/lib/python3.7/site-packages (from jsonschema!=2.5.0,>=2.4->nbformat>=4.4->nbconvert->jupyter) (0.15.7)\n",
      "Requirement already satisfied, skipping upgrade: importlib-metadata; python_version < \"3.8\" in /opt/conda/lib/python3.7/site-packages (from jsonschema!=2.5.0,>=2.4->nbformat>=4.4->nbconvert->jupyter) (1.5.0)\n",
      "Requirement already satisfied, skipping upgrade: zipp>=0.5 in /opt/conda/lib/python3.7/site-packages (from importlib-metadata; python_version < \"3.8\"->jsonschema!=2.5.0,>=2.4->nbformat>=4.4->nbconvert->jupyter) (3.0.0)\n",
      "\u001b[31mERROR: jupyter-console 6.6.3 has requirement ipykernel>=6.14, but you'll have ipykernel 5.1.4 which is incompatible.\u001b[0m\n",
      "\u001b[31mERROR: jupyter-console 6.6.3 has requirement jupyter-client>=7.0.0, but you'll have jupyter-client 6.0.0 which is incompatible.\u001b[0m\n",
      "\u001b[31mERROR: jupyter-console 6.6.3 has requirement jupyter-core!=5.0.*,>=4.12, but you'll have jupyter-core 4.6.3 which is incompatible.\u001b[0m\n",
      "\u001b[31mERROR: jupyter-console 6.6.3 has requirement traitlets>=5.4, but you'll have traitlets 4.3.3 which is incompatible.\u001b[0m\n",
      "Installing collected packages: prompt-toolkit, jupyter-console, qtpy, qtconsole, widgetsnbextension, jupyterlab-widgets, ipywidgets, jupyter\n",
      "\u001b[33m  WARNING: The script jupyter-console is installed in '/root/.local/bin' which is not on PATH.\n",
      "  Consider adding this directory to PATH or, if you prefer to suppress this warning, use --no-warn-script-location.\u001b[0m\n",
      "\u001b[33m  WARNING: The script qtpy is installed in '/root/.local/bin' which is not on PATH.\n",
      "  Consider adding this directory to PATH or, if you prefer to suppress this warning, use --no-warn-script-location.\u001b[0m\n",
      "Successfully installed ipywidgets-8.0.6 jupyter-1.0.0 jupyter-console-6.6.3 jupyterlab-widgets-3.0.7 prompt-toolkit-3.0.38 qtconsole-5.4.3 qtpy-2.3.1 widgetsnbextension-4.0.7\n",
      "Note: you may need to restart the kernel to use updated packages.\n"
     ]
    }
   ],
   "source": [
    "pip install --upgrade jupyter\n"
   ]
  },
  {
   "cell_type": "code",
   "execution_count": 3,
   "metadata": {},
   "outputs": [
    {
     "name": "stdout",
     "output_type": "stream",
     "text": [
      "Defaulting to user installation because normal site-packages is not writeable\n",
      "Requirement already up-to-date: ipywidgets in /root/.local/lib/python3.7/site-packages (8.0.6)\n",
      "Requirement already satisfied, skipping upgrade: traitlets>=4.3.1 in /opt/conda/lib/python3.7/site-packages (from ipywidgets) (4.3.3)\n",
      "Requirement already satisfied, skipping upgrade: widgetsnbextension~=4.0.7 in /root/.local/lib/python3.7/site-packages (from ipywidgets) (4.0.7)\n",
      "Requirement already satisfied, skipping upgrade: jupyterlab-widgets~=3.0.7 in /root/.local/lib/python3.7/site-packages (from ipywidgets) (3.0.7)\n",
      "Requirement already satisfied, skipping upgrade: ipykernel>=4.5.1 in /opt/conda/lib/python3.7/site-packages (from ipywidgets) (5.1.4)\n",
      "Requirement already satisfied, skipping upgrade: ipython>=6.1.0 in /opt/conda/lib/python3.7/site-packages (from ipywidgets) (7.13.0)\n",
      "Requirement already satisfied, skipping upgrade: six in /opt/conda/lib/python3.7/site-packages (from traitlets>=4.3.1->ipywidgets) (1.16.0)\n",
      "Requirement already satisfied, skipping upgrade: ipython-genutils in /opt/conda/lib/python3.7/site-packages (from traitlets>=4.3.1->ipywidgets) (0.2.0)\n",
      "Requirement already satisfied, skipping upgrade: decorator in /opt/conda/lib/python3.7/site-packages (from traitlets>=4.3.1->ipywidgets) (4.4.2)\n",
      "Requirement already satisfied, skipping upgrade: tornado>=4.2 in /opt/conda/lib/python3.7/site-packages (from ipykernel>=4.5.1->ipywidgets) (5.1.1)\n",
      "Requirement already satisfied, skipping upgrade: jupyter-client in /opt/conda/lib/python3.7/site-packages (from ipykernel>=4.5.1->ipywidgets) (6.0.0)\n",
      "Requirement already satisfied, skipping upgrade: setuptools>=18.5 in /opt/conda/lib/python3.7/site-packages (from ipython>=6.1.0->ipywidgets) (45.2.0.post20200209)\n",
      "Requirement already satisfied, skipping upgrade: pickleshare in /opt/conda/lib/python3.7/site-packages (from ipython>=6.1.0->ipywidgets) (0.7.5)\n",
      "Requirement already satisfied, skipping upgrade: backcall in /opt/conda/lib/python3.7/site-packages (from ipython>=6.1.0->ipywidgets) (0.1.0)\n",
      "Requirement already satisfied, skipping upgrade: pygments in /opt/conda/lib/python3.7/site-packages (from ipython>=6.1.0->ipywidgets) (2.5.2)\n",
      "Requirement already satisfied, skipping upgrade: pexpect; sys_platform != \"win32\" in /opt/conda/lib/python3.7/site-packages (from ipython>=6.1.0->ipywidgets) (4.8.0)\n",
      "Requirement already satisfied, skipping upgrade: prompt-toolkit!=3.0.0,!=3.0.1,<3.1.0,>=2.0.0 in /root/.local/lib/python3.7/site-packages (from ipython>=6.1.0->ipywidgets) (3.0.38)\n",
      "Requirement already satisfied, skipping upgrade: jedi>=0.10 in /opt/conda/lib/python3.7/site-packages (from ipython>=6.1.0->ipywidgets) (0.16.0)\n",
      "Requirement already satisfied, skipping upgrade: python-dateutil>=2.1 in /opt/conda/lib/python3.7/site-packages (from jupyter-client->ipykernel>=4.5.1->ipywidgets) (2.8.1)\n",
      "Requirement already satisfied, skipping upgrade: pyzmq>=13 in /opt/conda/lib/python3.7/site-packages (from jupyter-client->ipykernel>=4.5.1->ipywidgets) (19.0.0)\n",
      "Requirement already satisfied, skipping upgrade: jupyter-core>=4.6.0 in /opt/conda/lib/python3.7/site-packages (from jupyter-client->ipykernel>=4.5.1->ipywidgets) (4.6.3)\n",
      "Requirement already satisfied, skipping upgrade: ptyprocess>=0.5 in /opt/conda/lib/python3.7/site-packages (from pexpect; sys_platform != \"win32\"->ipython>=6.1.0->ipywidgets) (0.6.0)\n",
      "Requirement already satisfied, skipping upgrade: wcwidth in /opt/conda/lib/python3.7/site-packages (from prompt-toolkit!=3.0.0,!=3.0.1,<3.1.0,>=2.0.0->ipython>=6.1.0->ipywidgets) (0.1.8)\n",
      "Requirement already satisfied, skipping upgrade: parso>=0.5.2 in /opt/conda/lib/python3.7/site-packages (from jedi>=0.10->ipython>=6.1.0->ipywidgets) (0.6.1)\n",
      "Note: you may need to restart the kernel to use updated packages.\n"
     ]
    }
   ],
   "source": [
    "pip install --upgrade ipywidgets\n"
   ]
  },
  {
   "cell_type": "code",
   "execution_count": 4,
   "metadata": {},
   "outputs": [
    {
     "name": "stderr",
     "output_type": "stream",
     "text": [
      "/opt/conda/lib/python3.7/site-packages/torchvision/datasets/mnist.py:498: UserWarning: The given NumPy array is not writable, and PyTorch does not support non-writable tensors. This means writing to this tensor will result in undefined behavior. You may want to copy the array to protect its data or make it writable before converting it to a tensor. This type of warning will be suppressed for the rest of this program. (Triggered internally at  ../torch/csrc/utils/tensor_numpy.cpp:178.)\n",
      "  return torch.from_numpy(parsed.astype(m[2], copy=False)).view(*s)\n"
     ]
    }
   ],
   "source": [
    "# Define transforms\n",
    "\n",
    "mean = (0.1307)\n",
    "std = (0.3081)\n",
    "train_transforms = transforms.Compose([transforms.ToTensor(),\n",
    "                                      transforms.Normalize(mean,std)])\n",
    "                                       \n",
    "test_transforms = transforms.Compose([transforms.ToTensor(),\n",
    "                                     transforms.Normalize(mean,std)])\n",
    "\n",
    "# Create training set and define training dataloader\n",
    "train_set = torchvision.datasets.MNIST(root = './data', download=True, train=True, transform=train_transforms)\n",
    "\n",
    "train_dataloader = torch.utils.data.DataLoader(train_set, batch_size=32, shuffle=True)\n",
    "\n",
    "# Create test set and define test dataloader\n",
    "test_set = torchvision.datasets.MNIST(root= './data', download=True, train=False,transform=test_transforms)\n",
    "\n",
    "test_dataloader = torch.utils.data.DataLoader(test_set, batch_size=32)"
   ]
  },
  {
   "cell_type": "markdown",
   "metadata": {},
   "source": [
    "## Justify your preprocessing\n",
    "\n",
    "In your own words, why did you choose the transforms you chose? If you didn't use any preprocessing steps, why not?"
   ]
  },
  {
   "cell_type": "markdown",
   "metadata": {},
   "source": [
    "1. ToTensor: Converts the image from PIL format to PyTorch tensor.\n",
    "\n",
    "2. Normalize: Normalizes the image tensor by substracting the mean and dividing by the standard deviation along each channel. Ensures each channel has a similar scale and distribution.\n",
    "\n",
    "These transforms reduce overfitting and model's ability to generalize to unseen data. "
   ]
  },
  {
   "cell_type": "markdown",
   "metadata": {},
   "source": [
    "## Explore the Dataset\n",
    "Using matplotlib, numpy, and torch, explore the dimensions of your data.\n",
    "\n",
    "You can view images using the `show5` function defined below – it takes a data loader as an argument.\n",
    "Remember that normalized images will look really weird to you! You may want to try changing your transforms to view images.\n",
    "Typically using no transforms other than `toTensor()` works well for viewing – but not as well for training your network.\n",
    "If `show5` doesn't work, go back and check your code for creating your data loaders and your training/test sets."
   ]
  },
  {
   "cell_type": "code",
   "execution_count": 5,
   "metadata": {},
   "outputs": [],
   "source": [
    "## This cell contains a function for showing 5 images from a dataloader – DO NOT CHANGE THE CONTENTS! ##\n",
    "def show5(img_loader):\n",
    "    dataiter = iter(img_loader)\n",
    "    \n",
    "    batch = next(dataiter)\n",
    "    labels = batch[1][0:5]\n",
    "    images = batch[0][0:5]\n",
    "    for i in range(5):\n",
    "        print(int(labels[i].detach()))\n",
    "    \n",
    "        image = images[i].numpy()\n",
    "        plt.imshow(image.T.squeeze().T)\n",
    "        plt.show()"
   ]
  },
  {
   "cell_type": "code",
   "execution_count": 6,
   "metadata": {},
   "outputs": [
    {
     "name": "stdout",
     "output_type": "stream",
     "text": [
      "8\n"
     ]
    },
    {
     "data": {
      "image/png": "[encoded data removed]",
      "text/plain": [
       "<Figure size 432x288 with 1 Axes>"
      ]
     },
     "metadata": {
      "needs_background": "light"
     },
     "output_type": "display_data"
    },
    {
     "name": "stdout",
     "output_type": "stream",
     "text": [
      "5\n"
     ]
    },
    {
     "data": {
      "image/png": "[encoded data removed]",
      "text/plain": [
       "<Figure size 432x288 with 1 Axes>"
      ]
     },
     "metadata": {
      "needs_background": "light"
     },
     "output_type": "display_data"
    },
    {
     "name": "stdout",
     "output_type": "stream",
     "text": [
      "1\n"
     ]
    },
    {
     "data": {
      "image/png": "[encoded data removed]",
      "text/plain": [
       "<Figure size 432x288 with 1 Axes>"
      ]
     },
     "metadata": {
      "needs_background": "light"
     },
     "output_type": "display_data"
    },
    {
     "name": "stdout",
     "output_type": "stream",
     "text": [
      "2\n"
     ]
    },
    {
     "data": {
      "image/png": "[encoded data removed]",
      "text/plain": [
       "<Figure size 432x288 with 1 Axes>"
      ]
     },
     "metadata": {
      "needs_background": "light"
     },
     "output_type": "display_data"
    },
    {
     "name": "stdout",
     "output_type": "stream",
     "text": [
      "2\n"
     ]
    },
    {
     "data": {
      "image/png": "[encoded data removed]",
      "text/plain": [
       "<Figure size 432x288 with 1 Axes>"
      ]
     },
     "metadata": {
      "needs_background": "light"
     },
     "output_type": "display_data"
    }
   ],
   "source": [
    "# Explore data\n",
    "show5(train_dataloader)"
   ]
  },
  {
   "cell_type": "markdown",
   "metadata": {},
   "source": [
    "## Build your Neural Network\n",
    "Using the layers in `torch.nn` (which has been imported as `nn`) and the `torch.nn.functional` module (imported as `F`), construct a neural network based on the parameters of the dataset.\n",
    "Use any architecture you like. \n",
    "\n",
    "*Note*: If you did not flatten your tensors in your transforms or as part of your preprocessing and you are using only `Linear` layers, make sure to use the `Flatten` layer in your network!"
   ]
  },
  {
   "cell_type": "code",
   "execution_count": 7,
   "metadata": {},
   "outputs": [
    {
     "name": "stdout",
     "output_type": "stream",
     "text": [
      "torch.Size([1, 28, 28])\n"
     ]
    }
   ],
   "source": [
    "#check whether the layers have been flattened\n",
    "image, _ = train_set[0]\n",
    "print(image.shape)"
   ]
  },
  {
   "cell_type": "code",
   "execution_count": 8,
   "metadata": {},
   "outputs": [],
   "source": [
    "#build the neural network\n",
    "def neural_network():\n",
    "    model = nn.Sequential(\n",
    "        nn.Flatten(), #flatten layer to flatten input tensors\n",
    "        nn.Linear(784, 128), #fully connected layer 1\n",
    "        nn.ReLU(), #ReLU activation\n",
    "        nn.Linear(128,64), #fully connected layer 2\n",
    "        nn.ReLU(), #ReLU activation\n",
    "        nn.Linear(64,10) #fully connected layer 3\n",
    "    )\n",
    "    return model"
   ]
  },
  {
   "cell_type": "markdown",
   "metadata": {},
   "source": [
    "Specify a loss function and an optimizer, and instantiate the model.\n",
    "\n",
    "If you use a less common loss function, please note why you chose that loss function in a comment."
   ]
  },
  {
   "cell_type": "code",
   "execution_count": 9,
   "metadata": {},
   "outputs": [],
   "source": [
    "#instantiate the model\n",
    "model = neural_network()\n",
    "\n",
    "#set up loss function\n",
    "loss_function=nn.CrossEntropyLoss()\n",
    "\n",
    "#set up optimizer\n",
    "optimizer=optim.Adam(model.parameters(), lr=0.0009)"
   ]
  },
  {
   "cell_type": "markdown",
   "metadata": {},
   "source": [
    "## Running your Neural Network\n",
    "Use whatever method you like to train your neural network, and ensure you record the average loss at each epoch. \n",
    "Don't forget to use `torch.device()` and the `.to()` method for both your model and your data if you are using GPU!\n",
    "\n",
    "If you want to print your loss **during** each epoch, you can use the `enumerate` function and print the loss after a set number of batches. 250 batches works well for most people!"
   ]
  },
  {
   "cell_type": "markdown",
   "metadata": {},
   "source": [
    "Testing your model\n",
    "Using the previously created DataLoader for the test set, compute the percentage of correct predictions using the highest probability prediction.\n",
    "\n",
    "If your accuracy is over 90%, great work, but see if you can push a bit further! If your accuracy is under 90%, you'll need to make improvements. Go back and check your model architecture, loss function, and optimizer to make sure they're appropriate for an image classification task."
   ]
  },
  {
   "cell_type": "code",
   "execution_count": 24,
   "metadata": {},
   "outputs": [
    {
     "name": "stdout",
     "output_type": "stream",
     "text": [
      "Epoch [1/5], Batch [250/1875], Loss: 16.2514\n",
      "Epoch 1/5.. Train loss: 16.251.. Test loss: 21.255.. Test accuracy: 97.880\n",
      "Epoch [1/5], Batch [500/1875], Loss: 5.7498\n",
      "Epoch 1/5.. Train loss: 5.750.. Test loss: 19.616.. Test accuracy: 97.960\n",
      "Epoch [1/5], Batch [750/1875], Loss: 5.1266\n",
      "Epoch 1/5.. Train loss: 5.127.. Test loss: 20.865.. Test accuracy: 97.920\n",
      "Epoch [1/5], Batch [1000/1875], Loss: 4.5451\n",
      "Epoch 1/5.. Train loss: 4.545.. Test loss: 19.854.. Test accuracy: 97.960\n",
      "Epoch [1/5], Batch [1250/1875], Loss: 5.0215\n",
      "Epoch 1/5.. Train loss: 5.021.. Test loss: 20.559.. Test accuracy: 97.960\n",
      "Epoch [1/5], Batch [1500/1875], Loss: 5.1020\n",
      "Epoch 1/5.. Train loss: 5.102.. Test loss: 19.900.. Test accuracy: 98.000\n",
      "Epoch [1/5], Batch [1750/1875], Loss: 4.7846\n",
      "Epoch 1/5.. Train loss: 4.785.. Test loss: 20.085.. Test accuracy: 98.050\n",
      "Epoch [2/5], Batch [250/1875], Loss: 13.7660\n",
      "Epoch 2/5.. Train loss: 13.766.. Test loss: 22.219.. Test accuracy: 97.780\n",
      "Epoch [2/5], Batch [500/1875], Loss: 4.8209\n",
      "Epoch 2/5.. Train loss: 4.821.. Test loss: 19.644.. Test accuracy: 98.020\n",
      "Epoch [2/5], Batch [750/1875], Loss: 4.3303\n",
      "Epoch 2/5.. Train loss: 4.330.. Test loss: 20.416.. Test accuracy: 98.040\n",
      "Epoch [2/5], Batch [1000/1875], Loss: 4.7386\n",
      "Epoch 2/5.. Train loss: 4.739.. Test loss: 20.135.. Test accuracy: 98.040\n",
      "Epoch [2/5], Batch [1250/1875], Loss: 4.5505\n",
      "Epoch 2/5.. Train loss: 4.550.. Test loss: 20.291.. Test accuracy: 97.960\n",
      "Epoch [2/5], Batch [1500/1875], Loss: 4.1441\n",
      "Epoch 2/5.. Train loss: 4.144.. Test loss: 20.736.. Test accuracy: 97.960\n",
      "Epoch [2/5], Batch [1750/1875], Loss: 4.7659\n",
      "Epoch 2/5.. Train loss: 4.766.. Test loss: 20.230.. Test accuracy: 97.990\n",
      "Epoch [3/5], Batch [250/1875], Loss: 15.9511\n",
      "Epoch 3/5.. Train loss: 15.951.. Test loss: 22.625.. Test accuracy: 97.810\n",
      "Epoch [3/5], Batch [500/1875], Loss: 4.1305\n",
      "Epoch 3/5.. Train loss: 4.130.. Test loss: 20.407.. Test accuracy: 98.130\n",
      "Epoch [3/5], Batch [750/1875], Loss: 4.3784\n",
      "Epoch 3/5.. Train loss: 4.378.. Test loss: 20.185.. Test accuracy: 98.140\n",
      "Epoch [3/5], Batch [1000/1875], Loss: 3.9115\n",
      "Epoch 3/5.. Train loss: 3.912.. Test loss: 19.507.. Test accuracy: 98.110\n",
      "Epoch [3/5], Batch [1250/1875], Loss: 3.9324\n",
      "Epoch 3/5.. Train loss: 3.932.. Test loss: 21.183.. Test accuracy: 97.960\n",
      "Epoch [3/5], Batch [1500/1875], Loss: 3.2639\n",
      "Epoch 3/5.. Train loss: 3.264.. Test loss: 19.792.. Test accuracy: 98.000\n",
      "Epoch [3/5], Batch [1750/1875], Loss: 3.8298\n",
      "Epoch 3/5.. Train loss: 3.830.. Test loss: 20.932.. Test accuracy: 97.900\n",
      "Epoch [4/5], Batch [250/1875], Loss: 13.6434\n",
      "Epoch 4/5.. Train loss: 13.643.. Test loss: 22.401.. Test accuracy: 97.890\n",
      "Epoch [4/5], Batch [500/1875], Loss: 3.0379\n",
      "Epoch 4/5.. Train loss: 3.038.. Test loss: 20.479.. Test accuracy: 97.960\n",
      "Epoch [4/5], Batch [750/1875], Loss: 3.4125\n",
      "Epoch 4/5.. Train loss: 3.413.. Test loss: 19.995.. Test accuracy: 98.130\n",
      "Epoch [4/5], Batch [1000/1875], Loss: 4.2074\n",
      "Epoch 4/5.. Train loss: 4.207.. Test loss: 19.671.. Test accuracy: 98.180\n",
      "Epoch [4/5], Batch [1250/1875], Loss: 2.9148\n",
      "Epoch 4/5.. Train loss: 2.915.. Test loss: 20.246.. Test accuracy: 98.180\n",
      "Epoch [4/5], Batch [1500/1875], Loss: 4.0256\n",
      "Epoch 4/5.. Train loss: 4.026.. Test loss: 20.455.. Test accuracy: 98.100\n",
      "Epoch [4/5], Batch [1750/1875], Loss: 3.4318\n",
      "Epoch 4/5.. Train loss: 3.432.. Test loss: 20.252.. Test accuracy: 98.100\n",
      "Epoch [5/5], Batch [250/1875], Loss: 14.4113\n",
      "Epoch 5/5.. Train loss: 14.411.. Test loss: 25.000.. Test accuracy: 97.800\n",
      "Epoch [5/5], Batch [500/1875], Loss: 3.1676\n",
      "Epoch 5/5.. Train loss: 3.168.. Test loss: 21.070.. Test accuracy: 98.030\n",
      "Epoch [5/5], Batch [750/1875], Loss: 2.7783\n",
      "Epoch 5/5.. Train loss: 2.778.. Test loss: 20.278.. Test accuracy: 98.120\n",
      "Epoch [5/5], Batch [1000/1875], Loss: 3.0926\n",
      "Epoch 5/5.. Train loss: 3.093.. Test loss: 20.531.. Test accuracy: 98.100\n",
      "Epoch [5/5], Batch [1250/1875], Loss: 2.6735\n",
      "Epoch 5/5.. Train loss: 2.673.. Test loss: 20.549.. Test accuracy: 98.070\n",
      "Epoch [5/5], Batch [1500/1875], Loss: 3.1415\n",
      "Epoch 5/5.. Train loss: 3.141.. Test loss: 20.127.. Test accuracy: 98.170\n",
      "Epoch [5/5], Batch [1750/1875], Loss: 2.7805\n",
      "Epoch 5/5.. Train loss: 2.780.. Test loss: 20.105.. Test accuracy: 98.120\n"
     ]
    }
   ],
   "source": [
    "#train neural network\n",
    "device = torch.device(\"cuda:0\" if torch.cuda.is_available() else \"cpu\") \n",
    "#move model to GPU\n",
    "model.to(device)\n",
    "\n",
    "epochs=5\n",
    "print_every=250\n",
    "training_loss_values = []\n",
    "accuracy_values = []\n",
    "\n",
    "#training loop\n",
    "for epoch in range(epochs):\n",
    "    model.train()\n",
    "    training_loss=0.0\n",
    "    total_batches=len(train_dataloader)\n",
    "    \n",
    "    for batch_idx, (inputs, labels) in enumerate(train_dataloader):\n",
    "        #move inputs and labels to the default device\n",
    "        inputs, labels=inputs.to(device), labels.to(device)\n",
    "        \n",
    "        #sets all the gradients to zero for every parameter the optimizer is responsible for\n",
    "        optimizer.zero_grad()\n",
    "\n",
    "        #forward pass\n",
    "        outputs=model.forward(inputs)\n",
    "        \n",
    "        #calculate loss\n",
    "        loss = loss_function(outputs,labels)\n",
    "        \n",
    "        #backward pass and optimization\n",
    "        loss.backward()\n",
    "        \n",
    "        #update parameters using computed gradients\n",
    "        optimizer.step()\n",
    "        \n",
    "        training_loss += loss.item()\n",
    "        \n",
    "        if (batch_idx +1) % print_every ==0:\n",
    "            average_loss = training_loss\n",
    "            print(f\"Epoch [{epoch+1}/{epochs}], Batch [{batch_idx+1}/{len(train_dataloader)}], Loss: {average_loss:.4f}\")\n",
    "            training_loss_values.append(average_loss)\n",
    "            training_loss = 0.0\n",
    "            test_loss = 0\n",
    "            accuracy = 0\n",
    "            \n",
    "            #evaluation on test set\n",
    "            model.eval()\n",
    "            \n",
    "            correct_predictions = 0\n",
    "            \n",
    "            with torch.no_grad():\n",
    "                for inputs, labels in test_dataloader:\n",
    "                    inputs, labels = inputs.to(device),labels.to(device)\n",
    "                    outputs=model.forward(inputs)\n",
    "                    batch_loss = loss_function(outputs, labels)\n",
    "                    test_loss += batch_loss.item()\n",
    "                    \n",
    "                    #testing the model\n",
    "                    #predicted labels with highest probability\n",
    "                    _, predicted_labels = torch.max(outputs, dim=1)\n",
    "                    #number of correct predictions\n",
    "                    correct_predictions += (predicted_labels == labels).sum().item()\n",
    "                    #total samples\n",
    "                    samples = len(test_dataloader.dataset)\n",
    "                    #accuracy\n",
    "                    accuracy = (correct_predictions / samples)* 100\n",
    "                    accuracy_values.append(accuracy)\n",
    "                    \n",
    "            print(f\"Epoch {epoch+1}/{epochs}.. \"\n",
    "                    f\"Train loss: {average_loss:.3f}.. \"\n",
    "                    f\"Test loss: {test_loss:.3f}.. \"\n",
    "                    f\"Test accuracy: {accuracy:.3f}\")"
   ]
  },
  {
   "cell_type": "markdown",
   "metadata": {},
   "source": [
    "Plot the training loss (and validation loss/accuracy, if recorded)."
   ]
  },
  {
   "cell_type": "code",
   "execution_count": 28,
   "metadata": {},
   "outputs": [
    {
     "data": {
      "image/png": "[encoded data removed]",
      "text/plain": [
       "<Figure size 432x288 with 1 Axes>"
      ]
     },
     "metadata": {
      "needs_background": "light"
     },
     "output_type": "display_data"
    }
   ],
   "source": [
    "#plot training loss\n",
    "plt.plot(training_loss_values, label='average_loss')\n",
    "plt.plot(accuracy_values, label='accuracy')\n",
    "plt.xlabel('epoch')\n",
    "plt.ylabel('values')\n",
    "plt.legend()\n",
    "plt.show()"
   ]
  },
  {
   "cell_type": "markdown",
   "metadata": {},
   "source": [
    "## Improving your model\n",
    "\n",
    "Once your model is done training, try tweaking your hyperparameters and training again below to improve your accuracy on the test set!"
   ]
  },
  {
   "cell_type": "code",
   "execution_count": 13,
   "metadata": {},
   "outputs": [
    {
     "data": {
      "text/plain": [
       "313"
      ]
     },
     "execution_count": 13,
     "metadata": {},
     "output_type": "execute_result"
    }
   ],
   "source": [
    "len(test_dataloader)"
   ]
  },
  {
   "cell_type": "code",
   "execution_count": 14,
   "metadata": {},
   "outputs": [
    {
     "data": {
      "text/plain": [
       "1875"
      ]
     },
     "execution_count": 14,
     "metadata": {},
     "output_type": "execute_result"
    }
   ],
   "source": [
    "len(train_dataloader)"
   ]
  },
  {
   "cell_type": "code",
   "execution_count": 15,
   "metadata": {},
   "outputs": [
    {
     "data": {
      "text/plain": [
       "60000"
      ]
     },
     "execution_count": 15,
     "metadata": {},
     "output_type": "execute_result"
    }
   ],
   "source": [
    "len(train_set)"
   ]
  },
  {
   "cell_type": "code",
   "execution_count": 16,
   "metadata": {},
   "outputs": [
    {
     "data": {
      "text/plain": [
       "10000"
      ]
     },
     "execution_count": 16,
     "metadata": {},
     "output_type": "execute_result"
    }
   ],
   "source": [
    "len(test_set)"
   ]
  },
  {
   "cell_type": "code",
   "execution_count": 17,
   "metadata": {},
   "outputs": [
    {
     "data": {
      "text/plain": [
       "60000"
      ]
     },
     "execution_count": 17,
     "metadata": {},
     "output_type": "execute_result"
    }
   ],
   "source": [
    "len(train_dataloader.dataset)"
   ]
  },
  {
   "cell_type": "code",
   "execution_count": 18,
   "metadata": {},
   "outputs": [
    {
     "data": {
      "text/plain": [
       "10000"
      ]
     },
     "execution_count": 18,
     "metadata": {},
     "output_type": "execute_result"
    }
   ],
   "source": [
    "len(test_dataloader.dataset)"
   ]
  },
  {
   "cell_type": "code",
   "execution_count": 21,
   "metadata": {},
   "outputs": [
    {
     "name": "stdout",
     "output_type": "stream",
     "text": [
      "Epoch [1/12], Batch [250/1875], Loss: 306.9717\n",
      "Epoch 1/12.. Train loss: 306.972.. Test loss: 154.888.. Test accuracy: 0.868\n",
      "Epoch [1/12], Batch [500/1875], Loss: 100.7917\n",
      "Epoch 1/12.. Train loss: 100.792.. Test loss: 114.896.. Test accuracy: 0.888\n",
      "Epoch [1/12], Batch [750/1875], Loss: 84.7551\n",
      "Epoch 1/12.. Train loss: 84.755.. Test loss: 90.909.. Test accuracy: 0.914\n",
      "Epoch [1/12], Batch [1000/1875], Loss: 75.2971\n",
      "Epoch 1/12.. Train loss: 75.297.. Test loss: 83.141.. Test accuracy: 0.922\n",
      "Epoch [1/12], Batch [1250/1875], Loss: 67.9802\n",
      "Epoch 1/12.. Train loss: 67.980.. Test loss: 74.947.. Test accuracy: 0.930\n",
      "Epoch [1/12], Batch [1500/1875], Loss: 62.5242\n",
      "Epoch 1/12.. Train loss: 62.524.. Test loss: 67.681.. Test accuracy: 0.939\n",
      "Epoch [1/12], Batch [1750/1875], Loss: 60.0760\n",
      "Epoch 1/12.. Train loss: 60.076.. Test loss: 63.959.. Test accuracy: 0.943\n",
      "Epoch [2/12], Batch [250/1875], Loss: 61.9357\n",
      "Epoch 2/12.. Train loss: 61.936.. Test loss: 59.206.. Test accuracy: 0.943\n",
      "Epoch [2/12], Batch [500/1875], Loss: 48.2551\n",
      "Epoch 2/12.. Train loss: 48.255.. Test loss: 53.394.. Test accuracy: 0.950\n",
      "Epoch [2/12], Batch [750/1875], Loss: 42.0749\n",
      "Epoch 2/12.. Train loss: 42.075.. Test loss: 50.913.. Test accuracy: 0.950\n",
      "Epoch [2/12], Batch [1000/1875], Loss: 41.5715\n",
      "Epoch 2/12.. Train loss: 41.572.. Test loss: 50.407.. Test accuracy: 0.949\n",
      "Epoch [2/12], Batch [1250/1875], Loss: 37.3579\n",
      "Epoch 2/12.. Train loss: 37.358.. Test loss: 43.684.. Test accuracy: 0.956\n",
      "Epoch [2/12], Batch [1500/1875], Loss: 37.7002\n",
      "Epoch 2/12.. Train loss: 37.700.. Test loss: 43.447.. Test accuracy: 0.958\n",
      "Epoch [2/12], Batch [1750/1875], Loss: 36.6440\n",
      "Epoch 2/12.. Train loss: 36.644.. Test loss: 40.533.. Test accuracy: 0.960\n",
      "Epoch [3/12], Batch [250/1875], Loss: 39.7811\n",
      "Epoch 3/12.. Train loss: 39.781.. Test loss: 40.932.. Test accuracy: 0.959\n",
      "Epoch [3/12], Batch [500/1875], Loss: 32.7715\n",
      "Epoch 3/12.. Train loss: 32.772.. Test loss: 37.873.. Test accuracy: 0.962\n",
      "Epoch [3/12], Batch [750/1875], Loss: 30.9826\n",
      "Epoch 3/12.. Train loss: 30.983.. Test loss: 36.050.. Test accuracy: 0.967\n",
      "Epoch [3/12], Batch [1000/1875], Loss: 25.6172\n",
      "Epoch 3/12.. Train loss: 25.617.. Test loss: 38.500.. Test accuracy: 0.962\n",
      "Epoch [3/12], Batch [1250/1875], Loss: 28.1969\n",
      "Epoch 3/12.. Train loss: 28.197.. Test loss: 35.996.. Test accuracy: 0.966\n",
      "Epoch [3/12], Batch [1500/1875], Loss: 27.2903\n",
      "Epoch 3/12.. Train loss: 27.290.. Test loss: 32.681.. Test accuracy: 0.967\n",
      "Epoch [3/12], Batch [1750/1875], Loss: 28.4572\n",
      "Epoch 3/12.. Train loss: 28.457.. Test loss: 34.857.. Test accuracy: 0.967\n",
      "Epoch [4/12], Batch [250/1875], Loss: 33.1388\n",
      "Epoch 4/12.. Train loss: 33.139.. Test loss: 33.578.. Test accuracy: 0.968\n",
      "Epoch [4/12], Batch [500/1875], Loss: 23.5004\n",
      "Epoch 4/12.. Train loss: 23.500.. Test loss: 30.179.. Test accuracy: 0.969\n",
      "Epoch [4/12], Batch [750/1875], Loss: 24.6788\n",
      "Epoch 4/12.. Train loss: 24.679.. Test loss: 32.426.. Test accuracy: 0.969\n",
      "Epoch [4/12], Batch [1000/1875], Loss: 23.8494\n",
      "Epoch 4/12.. Train loss: 23.849.. Test loss: 29.886.. Test accuracy: 0.969\n",
      "Epoch [4/12], Batch [1250/1875], Loss: 21.4271\n",
      "Epoch 4/12.. Train loss: 21.427.. Test loss: 29.550.. Test accuracy: 0.971\n",
      "Epoch [4/12], Batch [1500/1875], Loss: 20.7280\n",
      "Epoch 4/12.. Train loss: 20.728.. Test loss: 27.931.. Test accuracy: 0.972\n",
      "Epoch [4/12], Batch [1750/1875], Loss: 20.8618\n",
      "Epoch 4/12.. Train loss: 20.862.. Test loss: 29.780.. Test accuracy: 0.968\n",
      "Epoch [5/12], Batch [250/1875], Loss: 30.2970\n",
      "Epoch 5/12.. Train loss: 30.297.. Test loss: 28.380.. Test accuracy: 0.972\n",
      "Epoch [5/12], Batch [500/1875], Loss: 20.2669\n",
      "Epoch 5/12.. Train loss: 20.267.. Test loss: 26.383.. Test accuracy: 0.973\n",
      "Epoch [5/12], Batch [750/1875], Loss: 17.5267\n",
      "Epoch 5/12.. Train loss: 17.527.. Test loss: 26.272.. Test accuracy: 0.974\n",
      "Epoch [5/12], Batch [1000/1875], Loss: 16.4046\n",
      "Epoch 5/12.. Train loss: 16.405.. Test loss: 26.938.. Test accuracy: 0.974\n",
      "Epoch [5/12], Batch [1250/1875], Loss: 16.8161\n",
      "Epoch 5/12.. Train loss: 16.816.. Test loss: 25.134.. Test accuracy: 0.974\n",
      "Epoch [5/12], Batch [1500/1875], Loss: 18.4464\n",
      "Epoch 5/12.. Train loss: 18.446.. Test loss: 26.498.. Test accuracy: 0.973\n",
      "Epoch [5/12], Batch [1750/1875], Loss: 17.4658\n",
      "Epoch 5/12.. Train loss: 17.466.. Test loss: 25.079.. Test accuracy: 0.975\n",
      "Epoch [6/12], Batch [250/1875], Loss: 26.3146\n",
      "Epoch 6/12.. Train loss: 26.315.. Test loss: 25.070.. Test accuracy: 0.977\n",
      "Epoch [6/12], Batch [500/1875], Loss: 13.4991\n",
      "Epoch 6/12.. Train loss: 13.499.. Test loss: 25.301.. Test accuracy: 0.974\n",
      "Epoch [6/12], Batch [750/1875], Loss: 16.0261\n",
      "Epoch 6/12.. Train loss: 16.026.. Test loss: 23.834.. Test accuracy: 0.976\n",
      "Epoch [6/12], Batch [1000/1875], Loss: 16.0031\n",
      "Epoch 6/12.. Train loss: 16.003.. Test loss: 24.612.. Test accuracy: 0.977\n",
      "Epoch [6/12], Batch [1250/1875], Loss: 15.0211\n",
      "Epoch 6/12.. Train loss: 15.021.. Test loss: 25.638.. Test accuracy: 0.974\n",
      "Epoch [6/12], Batch [1500/1875], Loss: 14.3971\n",
      "Epoch 6/12.. Train loss: 14.397.. Test loss: 25.055.. Test accuracy: 0.974\n",
      "Epoch [6/12], Batch [1750/1875], Loss: 15.6204\n",
      "Epoch 6/12.. Train loss: 15.620.. Test loss: 23.508.. Test accuracy: 0.976\n",
      "Epoch [7/12], Batch [250/1875], Loss: 22.7539\n",
      "Epoch 7/12.. Train loss: 22.754.. Test loss: 23.770.. Test accuracy: 0.977\n",
      "Epoch [7/12], Batch [500/1875], Loss: 12.1292\n",
      "Epoch 7/12.. Train loss: 12.129.. Test loss: 23.428.. Test accuracy: 0.977\n",
      "Epoch [7/12], Batch [750/1875], Loss: 11.6693\n",
      "Epoch 7/12.. Train loss: 11.669.. Test loss: 22.495.. Test accuracy: 0.978\n",
      "Epoch [7/12], Batch [1000/1875], Loss: 13.2637\n",
      "Epoch 7/12.. Train loss: 13.264.. Test loss: 22.746.. Test accuracy: 0.978\n",
      "Epoch [7/12], Batch [1250/1875], Loss: 11.9842\n",
      "Epoch 7/12.. Train loss: 11.984.. Test loss: 22.668.. Test accuracy: 0.978\n",
      "Epoch [7/12], Batch [1500/1875], Loss: 13.6418\n",
      "Epoch 7/12.. Train loss: 13.642.. Test loss: 24.463.. Test accuracy: 0.975\n",
      "Epoch [7/12], Batch [1750/1875], Loss: 12.5167\n",
      "Epoch 7/12.. Train loss: 12.517.. Test loss: 23.111.. Test accuracy: 0.978\n",
      "Epoch [8/12], Batch [250/1875], Loss: 19.9118\n",
      "Epoch 8/12.. Train loss: 19.912.. Test loss: 23.272.. Test accuracy: 0.977\n",
      "Epoch [8/12], Batch [500/1875], Loss: 10.6788\n",
      "Epoch 8/12.. Train loss: 10.679.. Test loss: 22.183.. Test accuracy: 0.978\n",
      "Epoch [8/12], Batch [750/1875], Loss: 11.5420\n",
      "Epoch 8/12.. Train loss: 11.542.. Test loss: 22.124.. Test accuracy: 0.978\n",
      "Epoch [8/12], Batch [1000/1875], Loss: 11.3529\n",
      "Epoch 8/12.. Train loss: 11.353.. Test loss: 22.243.. Test accuracy: 0.977\n",
      "Epoch [8/12], Batch [1250/1875], Loss: 10.2418\n",
      "Epoch 8/12.. Train loss: 10.242.. Test loss: 22.599.. Test accuracy: 0.978\n",
      "Epoch [8/12], Batch [1500/1875], Loss: 12.1519\n",
      "Epoch 8/12.. Train loss: 12.152.. Test loss: 22.127.. Test accuracy: 0.980\n",
      "Epoch [8/12], Batch [1750/1875], Loss: 10.4731\n",
      "Epoch 8/12.. Train loss: 10.473.. Test loss: 22.230.. Test accuracy: 0.977\n",
      "Epoch [9/12], Batch [250/1875], Loss: 17.1524\n",
      "Epoch 9/12.. Train loss: 17.152.. Test loss: 23.765.. Test accuracy: 0.976\n",
      "Epoch [9/12], Batch [500/1875], Loss: 9.4685\n",
      "Epoch 9/12.. Train loss: 9.468.. Test loss: 21.125.. Test accuracy: 0.979\n",
      "Epoch [9/12], Batch [750/1875], Loss: 10.7419\n",
      "Epoch 9/12.. Train loss: 10.742.. Test loss: 20.659.. Test accuracy: 0.979\n",
      "Epoch [9/12], Batch [1000/1875], Loss: 8.8864\n",
      "Epoch 9/12.. Train loss: 8.886.. Test loss: 20.175.. Test accuracy: 0.981\n",
      "Epoch [9/12], Batch [1250/1875], Loss: 8.1395\n",
      "Epoch 9/12.. Train loss: 8.139.. Test loss: 21.512.. Test accuracy: 0.979\n",
      "Epoch [9/12], Batch [1500/1875], Loss: 9.9194\n",
      "Epoch 9/12.. Train loss: 9.919.. Test loss: 20.191.. Test accuracy: 0.981\n",
      "Epoch [9/12], Batch [1750/1875], Loss: 9.9466\n",
      "Epoch 9/12.. Train loss: 9.947.. Test loss: 19.736.. Test accuracy: 0.981\n",
      "Epoch [10/12], Batch [250/1875], Loss: 17.2303\n",
      "Epoch 10/12.. Train loss: 17.230.. Test loss: 22.497.. Test accuracy: 0.976\n",
      "Epoch [10/12], Batch [500/1875], Loss: 6.8563\n",
      "Epoch 10/12.. Train loss: 6.856.. Test loss: 21.362.. Test accuracy: 0.978\n",
      "Epoch [10/12], Batch [750/1875], Loss: 7.0957\n",
      "Epoch 10/12.. Train loss: 7.096.. Test loss: 21.647.. Test accuracy: 0.978\n",
      "Epoch [10/12], Batch [1000/1875], Loss: 8.4702\n",
      "Epoch 10/12.. Train loss: 8.470.. Test loss: 21.181.. Test accuracy: 0.978\n",
      "Epoch [10/12], Batch [1250/1875], Loss: 7.1401\n",
      "Epoch 10/12.. Train loss: 7.140.. Test loss: 21.990.. Test accuracy: 0.979\n",
      "Epoch [10/12], Batch [1500/1875], Loss: 10.4952\n",
      "Epoch 10/12.. Train loss: 10.495.. Test loss: 20.467.. Test accuracy: 0.979\n",
      "Epoch [10/12], Batch [1750/1875], Loss: 8.1174\n",
      "Epoch 10/12.. Train loss: 8.117.. Test loss: 20.960.. Test accuracy: 0.980\n",
      "Epoch [11/12], Batch [250/1875], Loss: 18.9463\n",
      "Epoch 11/12.. Train loss: 18.946.. Test loss: 22.113.. Test accuracy: 0.979\n",
      "Epoch [11/12], Batch [500/1875], Loss: 6.5591\n",
      "Epoch 11/12.. Train loss: 6.559.. Test loss: 20.942.. Test accuracy: 0.979\n",
      "Epoch [11/12], Batch [750/1875], Loss: 6.6493\n",
      "Epoch 11/12.. Train loss: 6.649.. Test loss: 20.058.. Test accuracy: 0.981\n",
      "Epoch [11/12], Batch [1000/1875], Loss: 6.9892\n",
      "Epoch 11/12.. Train loss: 6.989.. Test loss: 19.126.. Test accuracy: 0.980\n",
      "Epoch [11/12], Batch [1250/1875], Loss: 6.5594\n",
      "Epoch 11/12.. Train loss: 6.559.. Test loss: 19.509.. Test accuracy: 0.980\n",
      "Epoch [11/12], Batch [1500/1875], Loss: 6.6267\n",
      "Epoch 11/12.. Train loss: 6.627.. Test loss: 20.321.. Test accuracy: 0.979\n",
      "Epoch [11/12], Batch [1750/1875], Loss: 6.1996\n",
      "Epoch 11/12.. Train loss: 6.200.. Test loss: 19.264.. Test accuracy: 0.981\n",
      "Epoch [12/12], Batch [250/1875], Loss: 15.0646\n",
      "Epoch 12/12.. Train loss: 15.065.. Test loss: 21.839.. Test accuracy: 0.979\n",
      "Epoch [12/12], Batch [500/1875], Loss: 6.3529\n",
      "Epoch 12/12.. Train loss: 6.353.. Test loss: 20.633.. Test accuracy: 0.980\n",
      "Epoch [12/12], Batch [750/1875], Loss: 6.6643\n",
      "Epoch 12/12.. Train loss: 6.664.. Test loss: 21.021.. Test accuracy: 0.979\n",
      "Epoch [12/12], Batch [1000/1875], Loss: 5.4945\n",
      "Epoch 12/12.. Train loss: 5.495.. Test loss: 20.003.. Test accuracy: 0.980\n",
      "Epoch [12/12], Batch [1250/1875], Loss: 5.7476\n",
      "Epoch 12/12.. Train loss: 5.748.. Test loss: 20.413.. Test accuracy: 0.980\n",
      "Epoch [12/12], Batch [1500/1875], Loss: 6.8992\n",
      "Epoch 12/12.. Train loss: 6.899.. Test loss: 20.913.. Test accuracy: 0.979\n",
      "Epoch [12/12], Batch [1750/1875], Loss: 5.9925\n",
      "Epoch 12/12.. Train loss: 5.993.. Test loss: 21.133.. Test accuracy: 0.980\n"
     ]
    }
   ],
   "source": [
    "#build the neural network\n",
    "def neural_network():\n",
    "    model = nn.Sequential(\n",
    "        nn.Flatten(), #flatten layer to flatten input tensors\n",
    "        nn.Linear(784, 128), #fully connected layer 1\n",
    "        nn.ReLU(), #ReLU activation\n",
    "        nn.Dropout(p=0.15),\n",
    "        nn.Linear(128,64), #fully connected layer 2\n",
    "        nn.ReLU(), #ReLU activation\n",
    "        nn.Linear(64,10), #fully connected layer 3\n",
    "        nn.LogSoftmax(dim=1)\n",
    "    )\n",
    "    return model\n",
    "\n",
    "#instantiate the model\n",
    "model = neural_network()\n",
    "#set up loss function\n",
    "loss_function=nn.NLLLoss()\n",
    "\n",
    "#set up optimizer\n",
    "optimizer=optim.SGD(model.parameters(), lr=0.02)\n",
    "\n",
    "#train neural network\n",
    "device = torch.device(\"cuda:0\" if torch.cuda.is_available() else \"cpu\") \n",
    "#move model to GPU\n",
    "model.to(device)\n",
    "\n",
    "epochs=12\n",
    "print_every=250\n",
    "training_loss_values = []\n",
    "accuracy_values = []\n",
    "\n",
    "#training loop\n",
    "for epoch in range(epochs):\n",
    "    model.train()\n",
    "    training_loss=0.0\n",
    "    total_batches=len(train_dataloader)\n",
    "    \n",
    "    for batch_idx, (inputs, labels) in enumerate(train_dataloader):\n",
    "        #move inputs and labels to the default device\n",
    "        inputs, labels=inputs.to(device), labels.to(device)\n",
    "        \n",
    "        #sets all the gradients to zero for every parameter the optimizer is responsible for\n",
    "        optimizer.zero_grad()\n",
    "\n",
    "        #forward pass\n",
    "        outputs=model.forward(inputs)\n",
    "        \n",
    "        #calculate loss\n",
    "        loss = loss_function(outputs,labels)\n",
    "        \n",
    "        #backward pass and optimization\n",
    "        loss.backward()\n",
    "        \n",
    "        #update parameters using computed gradients\n",
    "        optimizer.step()\n",
    "        \n",
    "        training_loss += loss.item()\n",
    "        \n",
    "        if (batch_idx +1) % print_every ==0:\n",
    "            average_loss = training_loss\n",
    "            print(f\"Epoch [{epoch+1}/{epochs}], Batch [{batch_idx+1}/{len(train_dataloader)}], Loss: {average_loss:.4f}\")\n",
    "            training_loss_values.append(average_loss)\n",
    "            training_loss = 0.0\n",
    "            test_loss = 0\n",
    "            accuracy = 0\n",
    "            \n",
    "            #evaluation on test set\n",
    "            model.eval()\n",
    "            \n",
    "            correct_predictions = 0\n",
    "            \n",
    "            with torch.no_grad():\n",
    "                for inputs, labels in test_dataloader:\n",
    "                    inputs, labels = inputs.to(device),labels.to(device)\n",
    "                    outputs=model.forward(inputs)\n",
    "                    batch_loss = loss_function(outputs, labels)\n",
    "                    test_loss += batch_loss.item()\n",
    "                    \n",
    "                    #testing the model\n",
    "                    #predicted labels with highest probability\n",
    "                    _, predicted_labels = torch.max(outputs, dim=1)\n",
    "                    #number of correct predictions\n",
    "                    correct_predictions += (predicted_labels == labels).sum().item()\n",
    "                    #total samples\n",
    "                    samples = len(test_dataloader.dataset)\n",
    "                    #accuracy\n",
    "                    accuracy = (correct_predictions / samples) * 100\n",
    "                    accuracy_values.append(accuracy)\n",
    "                    \n",
    "            print(f\"Epoch {epoch+1}/{epochs}.. \"\n",
    "                    f\"Train loss: {average_loss:.3f}.. \"\n",
    "                    f\"Test loss: {test_loss:.3f}.. \"\n",
    "                    f\"Test accuracy: {accuracy:.3f}\")"
   ]
  },
  {
   "cell_type": "markdown",
   "metadata": {},
   "source": [
    "## Saving your model\n",
    "Using `torch.save`, save your model for future loading."
   ]
  },
  {
   "cell_type": "code",
   "execution_count": 29,
   "metadata": {},
   "outputs": [],
   "source": [
    "path = './model.pth'\n",
    "torch.save(model.state_dict(), path)"
   ]
  },
  {
   "cell_type": "code",
   "execution_count": null,
   "metadata": {},
   "outputs": [],
   "source": []
  }
 ],
 "metadata": {
  "kernelspec": {
   "display_name": "Python 3",
   "language": "python",
   "name": "python3"
  },
  "language_info": {
   "codemirror_mode": {
    "name": "ipython",
    "version": 3
   },
   "file_extension": ".py",
   "mimetype": "text/x-python",
   "name": "python",
   "nbconvert_exporter": "python",
   "pygments_lexer": "ipython3",
   "version": "3.7.6"
  }
 },
 "nbformat": 4,
 "nbformat_minor": 4
}
